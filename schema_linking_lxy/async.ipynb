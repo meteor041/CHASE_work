{
 "cells": [
  {
   "cell_type": "code",
   "execution_count": 1,
   "id": "9287af6b-b12a-4633-8fb6-9137c3622d43",
   "metadata": {},
   "outputs": [],
   "source": [
    "from typing import List\n",
    "from transformers import AutoTokenizer, AutoModelForCausalLM\n",
    "import torch, re, json\n",
    "\n",
    "class KeywordExtractor:\n",
    "    def __init__(self, model_path: str):\n",
    "        self.tokenizer = AutoTokenizer.from_pretrained(\n",
    "            model_path, trust_remote_code=True, local_files_only=True\n",
    "        )\n",
    "        self.model = AutoModelForCausalLM.from_pretrained(\n",
    "            model_path, torch_dtype=torch.float16, device_map=\"auto\",\n",
    "            trust_remote_code=True, local_files_only=True\n",
    "        )\n",
    "        self.model.eval()\n",
    "        self.model.config.pad_token_id = self.tokenizer.pad_token_id\n",
    "\n",
    "    # ---------- 构造 Prompt ----------\n",
    "    def build_prompt(self, question: str) -> str:\n",
    "        return f\"\"\"\n",
    "You are a highly precise extraction assistant.\n",
    "\n",
    "Task: Extract only the key entities, attributes, numbers, or filtering conditions.\n",
    "\n",
    "Return **only** this JSON object (no extra text):\n",
    "{{\n",
    "  \"keywords\": [\"<keyword1>\", \"<keyword2>\"]\n",
    "}}\n",
    "\n",
    "Input Question:\n",
    "{question}\n",
    "\"\"\".strip()\n",
    "\n",
    "    # ---------- 通用工具 ----------\n",
    "    @staticmethod\n",
    "    def extract_json_block(text: str):\n",
    "        \"\"\"提取首个 {...} 并反序列化\"\"\"\n",
    "        m = re.search(r\"\\{[\\s\\S]*?\\}\", text)\n",
    "        return json.loads(m.group()) if m else {}\n",
    "\n",
    "    # ---------- 单问 ----------\n",
    "    def extract_keywords_one(self, question: str) -> List[str]:\n",
    "        prompt = self.build_prompt(question)\n",
    "        inputs = self.tokenizer(prompt, return_tensors=\"pt\").to(self.model.device)\n",
    "\n",
    "        out = self.model.generate(\n",
    "            **inputs,\n",
    "            max_new_tokens=128,\n",
    "            do_sample=False           # 确定性\n",
    "        )\n",
    "        # 解码新增部分\n",
    "        generated = out[:, inputs.input_ids.shape[1]:]\n",
    "        text = self.tokenizer.decode(generated[0], skip_special_tokens=True)\n",
    "\n",
    "        # 去掉 ```json ... ``` 包裹\n",
    "        text = re.sub(r\"^```(?:json)?\\s*([\\s\\S]*?)\\s*```$\", r\"\\1\", text.strip(), flags=re.DOTALL)\n",
    "\n",
    "        parsed = self.extract_json_block(text)\n",
    "        return parsed.get(\"keywords\", [])\n",
    "\n",
    "    # ---------- 批量 ----------\n",
    "    def batch_extract(self, questions: List[str]) -> List[List[str]]:\n",
    "        # 一次喂给模型，避免 asyncio 阻塞和显存重复\n",
    "        prompts = [self.build_prompt(q) for q in questions]\n",
    "        tokens  = self.tokenizer(prompts, padding=True, return_tensors=\"pt\").to(self.model.device)\n",
    "\n",
    "        outs = self.model.generate(**tokens, max_new_tokens=128, do_sample=False)\n",
    "        gens = [o[tokens.input_ids.shape[1]:] for o in outs]\n",
    "\n",
    "        texts = self.tokenizer.batch_decode(gens, skip_special_tokens=True)\n",
    "        clean  = [re.sub(r\"^```(?:json)?\\s*([\\s\\S]*?)\\s*```$\", r\"\\1\", t.strip(), flags=re.DOTALL)\n",
    "                  for t in texts]\n",
    "        return [self.extract_json_block(t).get(\"keywords\", []) for t in clean]"
   ]
  },
  {
   "cell_type": "code",
   "execution_count": 3,
   "id": "3fb2208f-9cb8-4d26-aa22-5869cfc21a63",
   "metadata": {},
   "outputs": [
    {
     "data": {
      "application/vnd.jupyter.widget-view+json": {
       "model_id": "8f65e645fc884980865543d4c1dfee45",
       "version_major": 2,
       "version_minor": 0
      },
      "text/plain": [
       "Loading checkpoint shards:   0%|          | 0/5 [00:00<?, ?it/s]"
      ]
     },
     "metadata": {},
     "output_type": "display_data"
    }
   ],
   "source": [
    "\n",
    "extractor = KeywordExtractor(\"/home/yangliu26/qwen3-8b\")\n"
   ]
  },
  {
   "cell_type": "code",
   "execution_count": 5,
   "id": "551b9868-f4b4-4019-af16-98419be34296",
   "metadata": {},
   "outputs": [
    {
     "name": "stdout",
     "output_type": "stream",
     "text": [
      "['Which stores have sales exceeding 50,000?', 'What are the popular restaurants in Beijing in 2023?', 'List the training institutions that offer courses in Python and deep learning.']\n"
     ]
    }
   ],
   "source": [
    "\n",
    "questions = [\n",
    "    \"Which stores have sales exceeding 50,000?\",\n",
    "    \"What are the popular restaurants in Beijing in 2023?\",\n",
    "    \"List the training institutions that offer courses in Python and deep learning.\"\n",
    "]\n",
    "print(questions)\n"
   ]
  },
  {
   "cell_type": "code",
   "execution_count": 6,
   "id": "305e78ec-aaac-4fa6-b592-033755fd8724",
   "metadata": {},
   "outputs": [
    {
     "ename": "NameError",
     "evalue": "name 'self' is not defined",
     "output_type": "error",
     "traceback": [
      "\u001b[0;31m---------------------------------------------------------------------------\u001b[0m",
      "\u001b[0;31mNameError\u001b[0m                                 Traceback (most recent call last)",
      "Cell \u001b[0;32mIn[6], line 1\u001b[0m\n\u001b[0;32m----> 1\u001b[0m prompts \u001b[38;5;241m=\u001b[39m [\u001b[38;5;28mself\u001b[39m\u001b[38;5;241m.\u001b[39mbuild_prompt(q) \u001b[38;5;28;01mfor\u001b[39;00m q \u001b[38;5;129;01min\u001b[39;00m questions]\n\u001b[1;32m      2\u001b[0m tokens  \u001b[38;5;241m=\u001b[39m \u001b[38;5;28mself\u001b[39m\u001b[38;5;241m.\u001b[39mtokenizer(prompts, padding\u001b[38;5;241m=\u001b[39m\u001b[38;5;28;01mTrue\u001b[39;00m, return_tensors\u001b[38;5;241m=\u001b[39m\u001b[38;5;124m\"\u001b[39m\u001b[38;5;124mpt\u001b[39m\u001b[38;5;124m\"\u001b[39m)\u001b[38;5;241m.\u001b[39mto(\u001b[38;5;28mself\u001b[39m\u001b[38;5;241m.\u001b[39mmodel\u001b[38;5;241m.\u001b[39mdevice)\n",
      "Cell \u001b[0;32mIn[6], line 1\u001b[0m, in \u001b[0;36m<listcomp>\u001b[0;34m(.0)\u001b[0m\n\u001b[0;32m----> 1\u001b[0m prompts \u001b[38;5;241m=\u001b[39m [\u001b[38;5;28;43mself\u001b[39;49m\u001b[38;5;241m.\u001b[39mbuild_prompt(q) \u001b[38;5;28;01mfor\u001b[39;00m q \u001b[38;5;129;01min\u001b[39;00m questions]\n\u001b[1;32m      2\u001b[0m tokens  \u001b[38;5;241m=\u001b[39m \u001b[38;5;28mself\u001b[39m\u001b[38;5;241m.\u001b[39mtokenizer(prompts, padding\u001b[38;5;241m=\u001b[39m\u001b[38;5;28;01mTrue\u001b[39;00m, return_tensors\u001b[38;5;241m=\u001b[39m\u001b[38;5;124m\"\u001b[39m\u001b[38;5;124mpt\u001b[39m\u001b[38;5;124m\"\u001b[39m)\u001b[38;5;241m.\u001b[39mto(\u001b[38;5;28mself\u001b[39m\u001b[38;5;241m.\u001b[39mmodel\u001b[38;5;241m.\u001b[39mdevice)\n",
      "\u001b[0;31mNameError\u001b[0m: name 'self' is not defined"
     ]
    }
   ],
   "source": [
    "prompts = [build_prompt(q) for q in questions]\n",
    "tokens  = tokenizer(prompts, padding=True, return_tensors=\"pt\").to(self.model.device)"
   ]
  },
  {
   "cell_type": "code",
   "execution_count": null,
   "id": "92dca4a8-9565-488f-a951-a1806794cebf",
   "metadata": {},
   "outputs": [],
   "source": [
    "outs = self.model.generate(**tokens, max_new_tokens=128, do_sample=False)\n",
    "gens = [o[tokens.input_ids.shape[1]:] for o in outs]\n",
    "\n",
    "texts = self.tokenizer.batch_decode(gens, skip_special_tokens=True)\n",
    "clean  = [re.sub(r\"^```(?:json)?\\s*([\\s\\S]*?)\\s*```$\", r\"\\1\", t.strip(), flags=re.DOTALL)\n",
    "          for t in texts]"
   ]
  },
  {
   "cell_type": "code",
   "execution_count": null,
   "id": "4497ca5f-b1cc-4493-ab31-ccea3b4796f9",
   "metadata": {},
   "outputs": [],
   "source": [
    "keywords_batch = extractor.batch_extract(questions)\n",
    "for q, kw in zip(questions, keywords_batch):\n",
    "    print(q, \"->\", kw)"
   ]
  }
 ],
 "metadata": {
  "kernelspec": {
   "display_name": "Python 3 (ipykernel)",
   "language": "python",
   "name": "python3"
  },
  "language_info": {
   "codemirror_mode": {
    "name": "ipython",
    "version": 3
   },
   "file_extension": ".py",
   "mimetype": "text/x-python",
   "name": "python",
   "nbconvert_exporter": "python",
   "pygments_lexer": "ipython3",
   "version": "3.10.16"
  }
 },
 "nbformat": 4,
 "nbformat_minor": 5
}
