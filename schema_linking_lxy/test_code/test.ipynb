{
 "cells": [
  {
   "cell_type": "code",
   "execution_count": 5,
   "id": "053f3f47-b096-4974-9d83-81f452a0ea01",
   "metadata": {},
   "outputs": [
    {
     "name": "stdout",
     "output_type": "stream",
     "text": [
      "\"SQL\":\"SELECT 1\"\n"
     ]
    }
   ],
   "source": [
    "import re\n",
    "result = \"\"\"\n",
    "```json\n",
    "\"SQL\":\"SELECT 1\"\n",
    "```\n",
    "\"\"\"\n",
    "# 去除包裹的 ```json ``` 和其他markdown\n",
    "cleaned = re.sub(r\"^```(?:json)?\\s*([\\s\\S]*?)\\s*```$\", r\"\\1\", result.strip(), flags=re.DOTALL)\n",
    "print(cleaned)"
   ]
  },
  {
   "cell_type": "code",
   "execution_count": null,
   "id": "8a75d9f7-062c-4e24-9ed7-a6b773833887",
   "metadata": {},
   "outputs": [],
   "source": []
  }
 ],
 "metadata": {
  "kernelspec": {
   "display_name": "Python 3 (ipykernel)",
   "language": "python",
   "name": "python3"
  },
  "language_info": {
   "codemirror_mode": {
    "name": "ipython",
    "version": 3
   },
   "file_extension": ".py",
   "mimetype": "text/x-python",
   "name": "python",
   "nbconvert_exporter": "python",
   "pygments_lexer": "ipython3",
   "version": "3.10.16"
  }
 },
 "nbformat": 4,
 "nbformat_minor": 5
}
