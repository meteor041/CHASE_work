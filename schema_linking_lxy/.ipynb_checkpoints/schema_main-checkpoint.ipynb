{
 "cells": [
  {
   "cell_type": "code",
   "execution_count": 29,
   "id": "8b119528-3fd4-4e21-98a3-1b7ce8231570",
   "metadata": {},
   "outputs": [],
   "source": [
    "import json\n",
    "from schema_parser import load_schema\n",
    "from keyword_extraction_with_llm import extract_keywords\n",
    "from typing import Dict, Any\n",
    "import os\n",
    "\n",
    "TRAIN_JSON_PATH = r\"/home/yangliu26/data/train/train.json\"\n",
    "SCHEMA_JSON_PATH = r\"/home/yangliu26/data/train/train_tables.json\"\n",
    "\n",
    "# 加载schema信息\n",
    "def get_schema_map(schema_json_path: str) -> Dict[str, Any]:\n",
    "    schema = load_schema(schema_json_path)\n",
    "    db_schema_map = {}\n",
    "    for db in schema:\n",
    "        db_id = db[\"db_id\"] if isinstance(db, dict) and \"db_id\" in db else db.get(\"db_id\", \"\")\n",
    "        db_schema_map[db_id] = db\n",
    "    return db_schema_map\n",
    "\n",
    "def link_keywords_to_schema(keywords, schema_info):\n",
    "    # 简单schema linking逻辑：关键词与表名、字段名做模糊匹配\n",
    "    linked = []\n",
    "    tables = schema_info.get(\"table_names_original\", [])\n",
    "    columns = [col[1] for col in schema_info.get(\"column_names_original\", [])]\n",
    "    for kw in keywords:\n",
    "        for t in tables:\n",
    "            if kw.lower() in t.lower():\n",
    "                linked.append((kw, \"table\", t))\n",
    "        for c in columns:\n",
    "            if kw.lower() in c.lower():\n",
    "                linked.append((kw, \"column\", c))\n",
    "    return linked\n"
   ]
  },
  {
   "cell_type": "code",
   "execution_count": 30,
   "id": "0bb7b7b7-cef2-4f83-82a8-75ded93965fc",
   "metadata": {},
   "outputs": [
    {
     "name": "stdout",
     "output_type": "stream",
     "text": [
      "[{'db_id': 'movie_platform', 'question': 'Name movie titles released in year 1945. Sort the listing by the descending order of movie popularity.', 'evidence': 'released in the year 1945 refers to movie_release_year = 1945;', 'SQL': 'SELECT movie_title FROM movies WHERE movie_release_year = 1945 ORDER BY movie_popularity DESC LIMIT 1'}]\n"
     ]
    }
   ],
   "source": [
    "with open(TRAIN_JSON_PATH, \"r\", encoding=\"utf-8\") as f:\n",
    "    data = json.load(f)\n",
    "\n",
    "print(data[:1])"
   ]
  },
  {
   "cell_type": "code",
   "execution_count": 45,
   "id": "9bef4e22-1366-4eb0-a863-6e93d43d7550",
   "metadata": {},
   "outputs": [
    {
     "name": "stdout",
     "output_type": "stream",
     "text": [
      "<class 'dict'>\n"
     ]
    }
   ],
   "source": [
    "# 各数据库地schema\n",
    "schema_map = get_schema_map(SCHEMA_JSON_PATH)\n",
    "print(schema_map.__class__)\n",
    "# 打印第一个键值对\n",
    "# first_key = next(iter(schema_map))\n",
    "# print(first_key, schema_map[first_key])\n",
    "# print(json.dumps(schema_map[first_key], indent=2, ensure_ascii=False))"
   ]
  },
  {
   "cell_type": "code",
   "execution_count": 50,
   "id": "0ce485c0-48b1-4d69-8d79-c0f44dd118a9",
   "metadata": {},
   "outputs": [
    {
     "name": "stdout",
     "output_type": "stream",
     "text": [
      "[\n",
      "  {\n",
      "    \"db_id\": \"movie_platform\",\n",
      "    \"question\": \"Name movie titles released in year 1945. Sort the listing by the descending order of movie popularity.\",\n",
      "    \"evidence\": \"released in the year 1945 refers to movie_release_year = 1945;\",\n",
      "    \"SQL\": \"SELECT movie_title FROM movies WHERE movie_release_year = 1945 ORDER BY movie_popularity DESC LIMIT 1\"\n",
      "  }\n",
      "]\n"
     ]
    }
   ],
   "source": [
    "results = []\n",
    "data = data[:1]\n",
    "print(json.dumps(data, indent=2))"
   ]
  },
  {
   "cell_type": "code",
   "execution_count": null,
   "id": "d6f39726-99ef-42be-9c2c-46be79b7f241",
   "metadata": {},
   "outputs": [],
   "source": [
    "for sample in data:\n",
    "    db_id = sample[\"db_id\"]\n",
    "    question = sample[\"question\"]\n",
    "    schema_info = schema_map.get(db_id, {})\n",
    "    keywords = extract_keywords(question)\n",
    "    linking = link_keywords_to_schema(keywords, schema_info)\n",
    "    results.append({\n",
    "        \"db_id\": db_id,\n",
    "        \"question\": question,\n",
    "        \"keywords\": keywords,\n",
    "        \"schema_linking\": linking\n",
    "    })"
   ]
  },
  {
   "cell_type": "code",
   "execution_count": null,
   "id": "a15cb9f0-c582-4495-a5e9-9aaa30489437",
   "metadata": {},
   "outputs": [],
   "source": [
    "# 输出结果\n",
    "    out_path = os.path.join(os.path.dirname(__file__), \"schema_linking_result.json\")\n",
    "    with open(out_path, \"w\", encoding=\"utf-8\") as f:\n",
    "        json.dump(results, f, ensure_ascii=False, indent=2)\n",
    "    print(f\"Schema linking结果已保存到: {out_path}\")"
   ]
  },
  {
   "cell_type": "code",
   "execution_count": null,
   "id": "bbd2fc95-2580-42e0-8cc1-25153505aceb",
   "metadata": {},
   "outputs": [],
   "source": []
  }
 ],
 "metadata": {
  "kernelspec": {
   "display_name": "Python 3 (ipykernel)",
   "language": "python",
   "name": "python3"
  },
  "language_info": {
   "codemirror_mode": {
    "name": "ipython",
    "version": 3
   },
   "file_extension": ".py",
   "mimetype": "text/x-python",
   "name": "python",
   "nbconvert_exporter": "python",
   "pygments_lexer": "ipython3",
   "version": "3.10.16"
  }
 },
 "nbformat": 4,
 "nbformat_minor": 5
}
